{
 "cells": [
  {
   "cell_type": "code",
   "execution_count": null,
   "id": "c5cedaac",
   "metadata": {
    "vscode": {
     "languageId": "plaintext"
    }
   },
   "outputs": [],
   "source": [
    "# Cell 1 - Imports\n",
    "import numpy as np\n",
    "import joblib\n",
    "import librosa\n",
    "import os\n",
    "\n",
    "# Cell 2 - Load model\n",
    "model_path = '../models/audio_score_model.pkl'\n",
    "if not os.path.exists(model_path):\n",
    "    raise FileNotFoundError(f\"Model not found at {model_path}\")\n",
    "model = joblib.load(model_path)\n",
    "print(\"✅ Model loaded successfully!\")\n",
    "\n",
    "# Cell 3 - Predict score for a new audio file\n",
    "def predict_audio_score(file_path):\n",
    "    if not os.path.exists(file_path):\n",
    "        raise FileNotFoundError(f\"Audio file not found: {file_path}\")\n",
    "    \n",
    "    # Load audio\n",
    "    y, sr = librosa.load(file_path, sr=None)\n",
    "\n",
    "    # Extract MFCC features\n",
    "    mfcc = librosa.feature.mfcc(y=y, sr=sr, n_mfcc=13)\n",
    "    mfcc_mean = np.mean(mfcc.T, axis=0).reshape(1, -1)\n",
    "\n",
    "    # Predict score\n",
    "    prediction = model.predict(mfcc_mean)[0]\n",
    "    return prediction\n",
    "\n",
    "# Cell 4 - Try prediction\n",
    "# Change the filename to your test audio file\n",
    "test_audio_path = '../audio_data/audios_test/audio_123.wav'\n",
    "try:\n",
    "    score = predict_audio_score(test_audio_path)\n",
    "    print(f\"🎧 Predicted Score for '{os.path.basename(test_audio_path)}': {score:.2f}\")\n",
    "except Exception as e:\n",
    "    print(\"❌ Error during prediction:\", e)\n"
   ]
  }
 ],
 "metadata": {
  "language_info": {
   "name": "python"
  }
 },
 "nbformat": 4,
 "nbformat_minor": 5
}
