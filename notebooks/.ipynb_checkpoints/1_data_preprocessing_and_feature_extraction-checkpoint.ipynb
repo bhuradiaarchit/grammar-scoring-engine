{
 "cells": [
  {
   "cell_type": "code",
   "execution_count": null,
   "id": "fae36862",
   "metadata": {
    "vscode": {
     "languageId": "plaintext"
    }
   },
   "outputs": [],
   "source": [
    "import os\n",
    "import librosa\n",
    "import pandas as pd\n",
    "import numpy as np\n",
    "from tqdm import tqdm\n",
    "\n",
    "# Paths\n",
    "train_meta = pd.read_csv('../train.csv')\n",
    "train_audio_path = '../audio_data/audios_train/'\n",
    "\n",
    "def extract_features(file_path):\n",
    "    y, sr = librosa.load(file_path, sr=None)\n",
    "    mfcc = librosa.feature.mfcc(y=y, sr=sr, n_mfcc=13)\n",
    "    return np.mean(mfcc, axis=1)\n",
    "\n",
    "features = []\n",
    "labels = []\n",
    "\n",
    "for _, row in tqdm(train_meta.iterrows(), total=len(train_meta)):\n",
    "    audio_id = row['audio_id']\n",
    "    label = row['grammar_score']\n",
    "    file_path = os.path.join(train_audio_path, f\"{audio_id}.wav\")\n",
    "\n",
    "    if os.path.exists(file_path):\n",
    "        mfccs = extract_features(file_path)\n",
    "        features.append(mfccs)\n",
    "        labels.append(label)\n",
    "\n",
    "X = np.array(features)\n",
    "y = np.array(labels)\n",
    "\n",
    "np.save('../models/X.npy', X)\n",
    "np.save('../models/y.npy', y)\n"
   ]
  }
 ],
 "metadata": {
  "language_info": {
   "name": "python"
  }
 },
 "nbformat": 4,
 "nbformat_minor": 5
}
