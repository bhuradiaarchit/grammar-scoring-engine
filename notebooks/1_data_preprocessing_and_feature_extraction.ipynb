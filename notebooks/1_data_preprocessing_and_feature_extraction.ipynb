{
 "cells": [
  {
   "cell_type": "code",
   "execution_count": 3,
   "id": "fae36862",
   "metadata": {
    "vscode": {
     "languageId": "plaintext"
    }
   },
   "outputs": [
    {
     "name": "stderr",
     "output_type": "stream",
     "text": [
      "100%|█| 444/444 [00:46<00:00,  9.61it"
     ]
    },
    {
     "name": "stdout",
     "output_type": "stream",
     "text": [
      "\n",
      "✅ Done! Processed 444 files.\n",
      "❌ Missing or errored files: 0\n",
      "X shape: (444, 13)\n",
      "y shape: (444,)\n"
     ]
    },
    {
     "name": "stderr",
     "output_type": "stream",
     "text": [
      "\n"
     ]
    }
   ],
   "source": [
    "import pandas as pd\n",
    "import os\n",
    "import numpy as np\n",
    "import librosa\n",
    "from tqdm import tqdm\n",
    "\n",
    "# Load train.csv\n",
    "train_meta = pd.read_csv('../train.csv')\n",
    "\n",
    "# Path to training audio files\n",
    "train_audio_path = '../audio_data/audios_train/'\n",
    "\n",
    "# Define feature extraction function\n",
    "def extract_features(file_path):\n",
    "    y, sr = librosa.load(file_path, sr=None)\n",
    "    mfcc = librosa.feature.mfcc(y=y, sr=sr, n_mfcc=13)\n",
    "    return np.mean(mfcc.T, axis=0)\n",
    "\n",
    "# Lists to store features and labels\n",
    "features = []\n",
    "labels = []\n",
    "\n",
    "missing_files = 0\n",
    "processed_files = 0\n",
    "\n",
    "# Loop over each row in the CSV\n",
    "for _, row in tqdm(train_meta.iterrows(), total=len(train_meta)):\n",
    "    filename = row['filename']\n",
    "    label = row['label']\n",
    "    file_path = os.path.join(train_audio_path, filename)\n",
    "\n",
    "    if os.path.exists(file_path):\n",
    "        try:\n",
    "            mfccs = extract_features(file_path)\n",
    "            features.append(mfccs)\n",
    "            labels.append(label)\n",
    "            processed_files += 1\n",
    "        except Exception as e:\n",
    "            print(f\"Error processing {file_path}: {e}\")\n",
    "    else:\n",
    "        print(f\"Missing file: {file_path}\")\n",
    "        missing_files += 1\n",
    "\n",
    "print(f\"\\n✅ Done! Processed {processed_files} files.\")\n",
    "print(f\"❌ Missing or errored files: {missing_files}\")\n",
    "\n",
    "# Save only if features were extracted\n",
    "if features:\n",
    "    X = np.array(features)\n",
    "    y = np.array(labels)\n",
    "\n",
    "    print(\"X shape:\", X.shape)\n",
    "    print(\"y shape:\", y.shape)\n",
    "\n",
    "    np.save('../models/X.npy', X)\n",
    "    np.save('../models/y.npy', y)\n",
    "else:\n",
    "    print(\"No features extracted. Please check your audio files and CSV.\")\n"
   ]
  },
  {
   "cell_type": "code",
   "execution_count": null,
   "id": "41cb1045-1b01-4902-a703-d5de1604f2a7",
   "metadata": {},
   "outputs": [],
   "source": []
  },
  {
   "cell_type": "code",
   "execution_count": null,
   "id": "cbe39fc7-d2fb-4cb1-8849-36bc7fe1df51",
   "metadata": {},
   "outputs": [],
   "source": []
  },
  {
   "cell_type": "code",
   "execution_count": null,
   "id": "f1fb3883-9917-4860-ba47-bcf10c992ce4",
   "metadata": {},
   "outputs": [],
   "source": []
  }
 ],
 "metadata": {
  "kernelspec": {
   "display_name": "Python 3 (ipykernel)",
   "language": "python",
   "name": "python3"
  },
  "language_info": {
   "codemirror_mode": {
    "name": "ipython",
    "version": 3
   },
   "file_extension": ".py",
   "mimetype": "text/x-python",
   "name": "python",
   "nbconvert_exporter": "python",
   "pygments_lexer": "ipython3",
   "version": "3.13.2"
  }
 },
 "nbformat": 4,
 "nbformat_minor": 5
}
